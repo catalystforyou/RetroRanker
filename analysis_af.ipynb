{
 "cells": [
  {
   "cell_type": "code",
   "execution_count": 1,
   "metadata": {},
   "outputs": [],
   "source": [
    "%load_ext autoreload\n",
    "%autoreload 2"
   ]
  },
  {
   "cell_type": "code",
   "execution_count": 2,
   "metadata": {},
   "outputs": [],
   "source": [
    "import json\n",
    "from tqdm import tqdm\n",
    "from os.path import join\n",
    "from collections import defaultdict\n",
    "from test_model import build_reranked_data, S1, S2\n",
    "from retro_dataloader import build_dataloader\n",
    "import itertools\n",
    "from utils.model_utils import build_predict_score_path\n",
    "from argparse import Namespace"
   ]
  },
  {
   "cell_type": "markdown",
   "metadata": {},
   "source": [
    "AugTransformer (based on AT's predictions)"
   ]
  },
  {
   "cell_type": "code",
   "execution_count": 3,
   "metadata": {},
   "outputs": [],
   "source": [
    "args = Namespace(root='./', dataset='AT', testset='AT', batch_size=128, num_workers=0)\n",
    "dataset = args.testset"
   ]
  },
  {
   "cell_type": "code",
   "execution_count": 5,
   "metadata": {},
   "outputs": [
    {
     "name": "stdout",
     "output_type": "stream",
     "text": [
      "loading file ./data/AT/3_gengraph/rxns_0_test.json\n",
      "loading file ./data/AT/3_gengraph/rxns_1_test.json\n",
      "loading file ./data/AT/3_gengraph/rxns_2_test.json\n",
      "loading file ./data/AT/3_gengraph/rxns_3_test.json\n",
      "loading file ./data/AT/3_gengraph/rxns_4_test.json\n",
      "Results before RetroRanker:\n",
      "Top  1 accuracy: 0.4757\n",
      "Top  2 accuracy: 0.5787\n",
      "Top  3 accuracy: 0.6241\n",
      "Top  4 accuracy: 0.6497\n",
      "Top  5 accuracy: 0.6671\n",
      "Top  6 accuracy: 0.6799\n",
      "Top  7 accuracy: 0.6890\n",
      "Top  8 accuracy: 0.6960\n",
      "Top  9 accuracy: 0.7021\n",
      "Top 10 accuracy: 0.7069\n",
      "Top 11 accuracy: 0.7106\n",
      "Top 12 accuracy: 0.7137\n",
      "Top 13 accuracy: 0.7167\n",
      "Top 14 accuracy: 0.7185\n",
      "Top 15 accuracy: 0.7197\n",
      "Top 16 accuracy: 0.7206\n",
      "Top 17 accuracy: 0.7211\n",
      "Top 18 accuracy: 0.7215\n",
      "Top 19 accuracy: 0.7216\n",
      "Top 20 accuracy: 0.7218\n",
      "Top 21 accuracy: 0.7219\n",
      "Top 22 accuracy: 0.7219\n",
      "Top 23 accuracy: 0.7219\n",
      "Top 24 accuracy: 0.7219\n",
      "Top 25 accuracy: 0.7219\n",
      "Top 26 accuracy: 0.7219\n",
      "Top 27 accuracy: 0.7219\n",
      "Top 28 accuracy: 0.7219\n",
      "Top 29 accuracy: 0.7219\n",
      "Top 30 accuracy: 0.7219\n",
      "Top 31 accuracy: 0.7219\n",
      "Top 32 accuracy: 0.7219\n",
      "Top 33 accuracy: 0.7219\n",
      "Top 34 accuracy: 0.7219\n",
      "Top 35 accuracy: 0.7219\n",
      "Top 36 accuracy: 0.7219\n",
      "Top 37 accuracy: 0.7219\n",
      "Top 38 accuracy: 0.7219\n",
      "Top 39 accuracy: 0.7219\n",
      "Top 40 accuracy: 0.7219\n",
      "Top 41 accuracy: 0.7219\n",
      "Top 42 accuracy: 0.7219\n",
      "Top 43 accuracy: 0.7219\n",
      "Top 44 accuracy: 0.7219\n",
      "Top 45 accuracy: 0.7219\n",
      "Top 46 accuracy: 0.7219\n",
      "Top 47 accuracy: 0.7219\n",
      "Top 48 accuracy: 0.7219\n",
      "Top 49 accuracy: 0.7219\n",
      "Top 50 accuracy: 0.7219\n"
     ]
    }
   ],
   "source": [
    "test_loader, test_set_list = build_dataloader(args, False, args.testset)\n",
    "raw_data = list(itertools.chain.from_iterable(\n",
    "    [test_set.raw for test_set in test_set_list]))\n",
    "score_file = build_predict_score_path(args, args.testset)\n",
    "scores = json.load(open(score_file))\n",
    "\n",
    "base_acc = S1(raw_data, dataset, reranking=False)"
   ]
  },
  {
   "cell_type": "code",
   "execution_count": 6,
   "metadata": {},
   "outputs": [
    {
     "name": "stderr",
     "output_type": "stream",
     "text": [
      "build reranked list: 100%|██████████| 69931/69931 [00:03<00:00, 18273.74it/s]\n"
     ]
    },
    {
     "name": "stdout",
     "output_type": "stream",
     "text": [
      "Results after RetroRanker S2:\n",
      "Top  1 accuracy: 0.4800, baseline: 0.4757, change 0.0043\n",
      "Top  2 accuracy: 0.5954, baseline: 0.5787, change 0.0168\n",
      "Top  3 accuracy: 0.6442, baseline: 0.6241, change 0.0201\n",
      "Top  4 accuracy: 0.6710, baseline: 0.6497, change 0.0213\n",
      "Top  5 accuracy: 0.6881, baseline: 0.6671, change 0.0210\n",
      "Top  6 accuracy: 0.6987, baseline: 0.6799, change 0.0188\n",
      "Top  7 accuracy: 0.7066, baseline: 0.6890, change 0.0176\n",
      "Top  8 accuracy: 0.7117, baseline: 0.6960, change 0.0157\n",
      "Top  9 accuracy: 0.7155, baseline: 0.7021, change 0.0135\n",
      "Top 10 accuracy: 0.7178, baseline: 0.7069, change 0.0109\n",
      "Top 11 accuracy: 0.7194, baseline: 0.7106, change 0.0088\n",
      "Top 12 accuracy: 0.7204, baseline: 0.7137, change 0.0067\n",
      "Top 13 accuracy: 0.7208, baseline: 0.7167, change 0.0041\n",
      "Top 14 accuracy: 0.7212, baseline: 0.7185, change 0.0027\n",
      "Top 15 accuracy: 0.7215, baseline: 0.7197, change 0.0017\n",
      "Top 16 accuracy: 0.7217, baseline: 0.7206, change 0.0010\n",
      "Top 17 accuracy: 0.7218, baseline: 0.7211, change 0.0007\n",
      "Top 18 accuracy: 0.7219, baseline: 0.7215, change 0.0004\n",
      "Top 19 accuracy: 0.7219, baseline: 0.7216, change 0.0003\n",
      "Top 20 accuracy: 0.7219, baseline: 0.7218, change 0.0001\n",
      "Top 21 accuracy: 0.7219, baseline: 0.7219, change 0.0000\n",
      "Top 22 accuracy: 0.7219, baseline: 0.7219, change 0.0000\n",
      "Top 23 accuracy: 0.7219, baseline: 0.7219, change 0.0000\n",
      "Top 24 accuracy: 0.7219, baseline: 0.7219, change 0.0000\n",
      "Top 25 accuracy: 0.7219, baseline: 0.7219, change 0.0000\n",
      "Top 26 accuracy: 0.7219, baseline: 0.7219, change 0.0000\n",
      "Top 27 accuracy: 0.7219, baseline: 0.7219, change 0.0000\n",
      "Top 28 accuracy: 0.7219, baseline: 0.7219, change 0.0000\n",
      "Top 29 accuracy: 0.7219, baseline: 0.7219, change 0.0000\n",
      "Top 30 accuracy: 0.7219, baseline: 0.7219, change 0.0000\n",
      "Top 31 accuracy: 0.7219, baseline: 0.7219, change 0.0000\n",
      "Top 32 accuracy: 0.7219, baseline: 0.7219, change 0.0000\n",
      "Top 33 accuracy: 0.7219, baseline: 0.7219, change 0.0000\n",
      "Top 34 accuracy: 0.7219, baseline: 0.7219, change 0.0000\n",
      "Top 35 accuracy: 0.7219, baseline: 0.7219, change 0.0000\n",
      "Top 36 accuracy: 0.7219, baseline: 0.7219, change 0.0000\n",
      "Top 37 accuracy: 0.7219, baseline: 0.7219, change 0.0000\n",
      "Top 38 accuracy: 0.7219, baseline: 0.7219, change 0.0000\n",
      "Top 39 accuracy: 0.7219, baseline: 0.7219, change 0.0000\n",
      "Top 40 accuracy: 0.7219, baseline: 0.7219, change 0.0000\n",
      "Top 41 accuracy: 0.7219, baseline: 0.7219, change 0.0000\n",
      "Top 42 accuracy: 0.7219, baseline: 0.7219, change 0.0000\n",
      "Top 43 accuracy: 0.7219, baseline: 0.7219, change 0.0000\n",
      "Top 44 accuracy: 0.7219, baseline: 0.7219, change 0.0000\n",
      "Top 45 accuracy: 0.7219, baseline: 0.7219, change 0.0000\n",
      "Top 46 accuracy: 0.7219, baseline: 0.7219, change 0.0000\n",
      "Top 47 accuracy: 0.7219, baseline: 0.7219, change 0.0000\n",
      "Top 48 accuracy: 0.7219, baseline: 0.7219, change 0.0000\n",
      "Top 49 accuracy: 0.7219, baseline: 0.7219, change 0.0000\n",
      "Top 50 accuracy: 0.7219, baseline: 0.7219, change 0.0000\n"
     ]
    }
   ],
   "source": [
    "reranked = build_reranked_data(raw_data, scores, rerank_ratio=1, retain_topk=0)\n",
    "a1 = S2(reranked, dataset, base_acc=base_acc) # S2(0, 100%)\n",
    "# b1 = S1(reranked, dataset, reranking=True, base_acc) S1(0, 100%)\n"
   ]
  },
  {
   "cell_type": "markdown",
   "metadata": {},
   "source": [
    "R-SMILES (based on R-SMILES's predictions)"
   ]
  },
  {
   "cell_type": "code",
   "execution_count": 13,
   "metadata": {},
   "outputs": [
    {
     "name": "stdout",
     "output_type": "stream",
     "text": [
      "loading file ./data/R-SMILES/3_gengraph/rxns_0_test.json\n",
      "loading file ./data/R-SMILES/3_gengraph/rxns_1_test.json\n",
      "loading file ./data/R-SMILES/3_gengraph/rxns_2_test.json\n",
      "loading file ./data/R-SMILES/3_gengraph/rxns_3_test.json\n",
      "loading file ./data/R-SMILES/3_gengraph/rxns_4_test.json\n",
      "Results before RetroRanker:\n",
      "Top  1 accuracy: 0.4889\n",
      "Top  2 accuracy: 0.6108\n",
      "Top  3 accuracy: 0.6647\n",
      "Top  4 accuracy: 0.6968\n",
      "Top  5 accuracy: 0.7185\n",
      "Top  6 accuracy: 0.7340\n",
      "Top  7 accuracy: 0.7452\n",
      "Top  8 accuracy: 0.7541\n",
      "Top  9 accuracy: 0.7613\n",
      "Top 10 accuracy: 0.7674\n",
      "Top 11 accuracy: 0.7723\n",
      "Top 12 accuracy: 0.7764\n",
      "Top 13 accuracy: 0.7800\n",
      "Top 14 accuracy: 0.7834\n",
      "Top 15 accuracy: 0.7858\n",
      "Top 16 accuracy: 0.7880\n",
      "Top 17 accuracy: 0.7899\n",
      "Top 18 accuracy: 0.7917\n",
      "Top 19 accuracy: 0.7928\n",
      "Top 20 accuracy: 0.7940\n",
      "Top 21 accuracy: 0.7948\n",
      "Top 22 accuracy: 0.7954\n",
      "Top 23 accuracy: 0.7958\n",
      "Top 24 accuracy: 0.7961\n",
      "Top 25 accuracy: 0.7963\n",
      "Top 26 accuracy: 0.7965\n",
      "Top 27 accuracy: 0.7966\n",
      "Top 28 accuracy: 0.7966\n",
      "Top 29 accuracy: 0.7967\n",
      "Top 30 accuracy: 0.7967\n",
      "Top 31 accuracy: 0.7967\n",
      "Top 32 accuracy: 0.7967\n",
      "Top 33 accuracy: 0.7967\n",
      "Top 34 accuracy: 0.7967\n",
      "Top 35 accuracy: 0.7967\n",
      "Top 36 accuracy: 0.7967\n",
      "Top 37 accuracy: 0.7967\n",
      "Top 38 accuracy: 0.7967\n",
      "Top 39 accuracy: 0.7967\n",
      "Top 40 accuracy: 0.7967\n",
      "Top 41 accuracy: 0.7967\n",
      "Top 42 accuracy: 0.7967\n",
      "Top 43 accuracy: 0.7967\n",
      "Top 44 accuracy: 0.7967\n",
      "Top 45 accuracy: 0.7967\n",
      "Top 46 accuracy: 0.7967\n",
      "Top 47 accuracy: 0.7967\n",
      "Top 48 accuracy: 0.7967\n",
      "Top 49 accuracy: 0.7967\n",
      "Top 50 accuracy: 0.7967\n"
     ]
    }
   ],
   "source": [
    "args = Namespace(root='./', dataset='R-SMILES', testset='R-SMILES', batch_size=128, num_workers=0)\n",
    "dataset = args.testset\n",
    "\n",
    "test_loader, test_set_list = build_dataloader(args, False, args.testset)\n",
    "raw_data = list(itertools.chain.from_iterable(\n",
    "    [test_set.raw for test_set in test_set_list]))\n",
    "score_file = build_predict_score_path(args, args.testset)\n",
    "scores = json.load(open(score_file))\n",
    "\n",
    "base_acc = S1(raw_data, dataset, reranking=False)"
   ]
  },
  {
   "cell_type": "code",
   "execution_count": 15,
   "metadata": {},
   "outputs": [
    {
     "name": "stderr",
     "output_type": "stream",
     "text": [
      "build reranked list: 100%|██████████| 76505/76505 [00:05<00:00, 13332.21it/s]\n"
     ]
    },
    {
     "name": "stdout",
     "output_type": "stream",
     "text": [
      "Results after RetroRanker S2:\n",
      "Top  1 accuracy: 0.4889, baseline: 0.4889, change 0.0000\n",
      "Top  2 accuracy: 0.6108, baseline: 0.6108, change 0.0000\n",
      "Top  3 accuracy: 0.6660, baseline: 0.6647, change 0.0013\n",
      "Top  4 accuracy: 0.6975, baseline: 0.6968, change 0.0007\n",
      "Top  5 accuracy: 0.7189, baseline: 0.7185, change 0.0003\n",
      "Top  6 accuracy: 0.7345, baseline: 0.7340, change 0.0004\n",
      "Top  7 accuracy: 0.7464, baseline: 0.7452, change 0.0012\n",
      "Top  8 accuracy: 0.7553, baseline: 0.7541, change 0.0013\n",
      "Top  9 accuracy: 0.7630, baseline: 0.7613, change 0.0017\n",
      "Top 10 accuracy: 0.7690, baseline: 0.7674, change 0.0015\n",
      "Top 11 accuracy: 0.7744, baseline: 0.7723, change 0.0021\n",
      "Top 12 accuracy: 0.7788, baseline: 0.7764, change 0.0024\n",
      "Top 13 accuracy: 0.7822, baseline: 0.7800, change 0.0022\n",
      "Top 14 accuracy: 0.7852, baseline: 0.7834, change 0.0017\n",
      "Top 15 accuracy: 0.7877, baseline: 0.7858, change 0.0019\n",
      "Top 16 accuracy: 0.7897, baseline: 0.7880, change 0.0016\n",
      "Top 17 accuracy: 0.7911, baseline: 0.7899, change 0.0012\n",
      "Top 18 accuracy: 0.7926, baseline: 0.7917, change 0.0009\n",
      "Top 19 accuracy: 0.7937, baseline: 0.7928, change 0.0008\n",
      "Top 20 accuracy: 0.7945, baseline: 0.7940, change 0.0005\n",
      "Top 21 accuracy: 0.7951, baseline: 0.7948, change 0.0003\n",
      "Top 22 accuracy: 0.7956, baseline: 0.7954, change 0.0002\n",
      "Top 23 accuracy: 0.7960, baseline: 0.7958, change 0.0002\n",
      "Top 24 accuracy: 0.7962, baseline: 0.7961, change 0.0001\n",
      "Top 25 accuracy: 0.7964, baseline: 0.7963, change 0.0001\n",
      "Top 26 accuracy: 0.7965, baseline: 0.7965, change 0.0001\n",
      "Top 27 accuracy: 0.7966, baseline: 0.7966, change 0.0000\n",
      "Top 28 accuracy: 0.7966, baseline: 0.7966, change -0.0000\n",
      "Top 29 accuracy: 0.7967, baseline: 0.7967, change -0.0000\n",
      "Top 30 accuracy: 0.7967, baseline: 0.7967, change -0.0000\n",
      "Top 31 accuracy: 0.7967, baseline: 0.7967, change -0.0000\n",
      "Top 32 accuracy: 0.7967, baseline: 0.7967, change -0.0000\n",
      "Top 33 accuracy: 0.7967, baseline: 0.7967, change -0.0000\n",
      "Top 34 accuracy: 0.7967, baseline: 0.7967, change 0.0000\n",
      "Top 35 accuracy: 0.7967, baseline: 0.7967, change 0.0000\n",
      "Top 36 accuracy: 0.7967, baseline: 0.7967, change 0.0000\n",
      "Top 37 accuracy: 0.7967, baseline: 0.7967, change 0.0000\n",
      "Top 38 accuracy: 0.7967, baseline: 0.7967, change 0.0000\n",
      "Top 39 accuracy: 0.7967, baseline: 0.7967, change 0.0000\n",
      "Top 40 accuracy: 0.7967, baseline: 0.7967, change 0.0000\n",
      "Top 41 accuracy: 0.7967, baseline: 0.7967, change 0.0000\n",
      "Top 42 accuracy: 0.7967, baseline: 0.7967, change 0.0000\n",
      "Top 43 accuracy: 0.7967, baseline: 0.7967, change 0.0000\n",
      "Top 44 accuracy: 0.7967, baseline: 0.7967, change 0.0000\n",
      "Top 45 accuracy: 0.7967, baseline: 0.7967, change 0.0000\n",
      "Top 46 accuracy: 0.7967, baseline: 0.7967, change 0.0000\n",
      "Top 47 accuracy: 0.7967, baseline: 0.7967, change 0.0000\n",
      "Top 48 accuracy: 0.7967, baseline: 0.7967, change 0.0000\n",
      "Top 49 accuracy: 0.7967, baseline: 0.7967, change 0.0000\n",
      "Top 50 accuracy: 0.7967, baseline: 0.7967, change 0.0000\n"
     ]
    }
   ],
   "source": [
    "reranked = build_reranked_data(raw_data, scores, rerank_ratio=1, retain_topk=2)\n",
    "a1 = S2(reranked, dataset, base_acc=base_acc)\n",
    "# b1 = S1(reranked, dataset, reranking=True, base_acc=a1)"
   ]
  }
 ],
 "metadata": {
  "kernelspec": {
   "display_name": "Python 3.9.13 ('retroranker')",
   "language": "python",
   "name": "python3"
  },
  "language_info": {
   "codemirror_mode": {
    "name": "ipython",
    "version": 3
   },
   "file_extension": ".py",
   "mimetype": "text/x-python",
   "name": "python",
   "nbconvert_exporter": "python",
   "pygments_lexer": "ipython3",
   "version": "3.9.13"
  },
  "orig_nbformat": 4,
  "vscode": {
   "interpreter": {
    "hash": "b5b6de52814b7b7e83aabab97e9ab07479571118d39b056d18c15abe4e7a047f"
   }
  }
 },
 "nbformat": 4,
 "nbformat_minor": 2
}
