{
 "cells": [
  {
   "cell_type": "code",
   "execution_count": 1,
   "metadata": {},
   "outputs": [],
   "source": [
    "%load_ext autoreload\n",
    "%autoreload 2"
   ]
  },
  {
   "cell_type": "code",
   "execution_count": 2,
   "metadata": {},
   "outputs": [],
   "source": [
    "import json\n",
    "from tqdm import tqdm\n",
    "from os.path import join\n",
    "from collections import defaultdict\n",
    "from test_model import build_reranked_data, S1, S2\n",
    "from graphormer_score import load_predictions\n"
   ]
  },
  {
   "cell_type": "markdown",
   "metadata": {},
   "source": [
    "AugTransformer (based on R-SMILES's prediction)"
   ]
  },
  {
   "cell_type": "code",
   "execution_count": 4,
   "metadata": {},
   "outputs": [
    {
     "name": "stderr",
     "output_type": "stream",
     "text": [
      "100%|██████████| 30/30 [00:29<00:00,  1.03it/s]\n"
     ]
    },
    {
     "name": "stdout",
     "output_type": "stream",
     "text": [
      "Results before RetroRanker:\n",
      "Top  1 accuracy: 0.4757\n",
      "Top  2 accuracy: 0.5787\n",
      "Top  3 accuracy: 0.6241\n",
      "Top  4 accuracy: 0.6497\n",
      "Top  5 accuracy: 0.6671\n",
      "Top  6 accuracy: 0.6799\n",
      "Top  7 accuracy: 0.6890\n",
      "Top  8 accuracy: 0.6960\n",
      "Top  9 accuracy: 0.7021\n",
      "Top 10 accuracy: 0.7069\n",
      "Top 11 accuracy: 0.7106\n",
      "Top 12 accuracy: 0.7137\n",
      "Top 13 accuracy: 0.7167\n",
      "Top 14 accuracy: 0.7185\n",
      "Top 15 accuracy: 0.7197\n",
      "Top 16 accuracy: 0.7206\n",
      "Top 17 accuracy: 0.7211\n",
      "Top 18 accuracy: 0.7215\n",
      "Top 19 accuracy: 0.7216\n",
      "Top 20 accuracy: 0.7218\n",
      "Top 21 accuracy: 0.7219\n",
      "Top 22 accuracy: 0.7219\n",
      "Top 23 accuracy: 0.7219\n",
      "Top 24 accuracy: 0.7219\n",
      "Top 25 accuracy: 0.7219\n",
      "Top 26 accuracy: 0.7219\n",
      "Top 27 accuracy: 0.7219\n",
      "Top 28 accuracy: 0.7219\n",
      "Top 29 accuracy: 0.7219\n",
      "Top 30 accuracy: 0.7219\n",
      "Top 31 accuracy: 0.7219\n",
      "Top 32 accuracy: 0.7219\n",
      "Top 33 accuracy: 0.7219\n",
      "Top 34 accuracy: 0.7219\n",
      "Top 35 accuracy: 0.7219\n",
      "Top 36 accuracy: 0.7219\n",
      "Top 37 accuracy: 0.7219\n",
      "Top 38 accuracy: 0.7219\n",
      "Top 39 accuracy: 0.7219\n",
      "Top 40 accuracy: 0.7219\n",
      "Top 41 accuracy: 0.7219\n",
      "Top 42 accuracy: 0.7219\n",
      "Top 43 accuracy: 0.7219\n",
      "Top 44 accuracy: 0.7219\n",
      "Top 45 accuracy: 0.7219\n",
      "Top 46 accuracy: 0.7219\n",
      "Top 47 accuracy: 0.7219\n",
      "Top 48 accuracy: 0.7219\n",
      "Top 49 accuracy: 0.7219\n",
      "Top 50 accuracy: 0.7219\n"
     ]
    }
   ],
   "source": [
    "input_dir = './data/'\n",
    "dataset = 'AT'\n",
    "output_dir = 'output/R-SMILES_on_AT/'\n",
    "\n",
    "raw_data, scores = load_predictions(input_dir, dataset, output_dir)\n",
    "base_acc = S1(raw_data, dataset, reranking=False)"
   ]
  },
  {
   "cell_type": "code",
   "execution_count": 5,
   "metadata": {},
   "outputs": [
    {
     "name": "stderr",
     "output_type": "stream",
     "text": [
      "build reranked list: 100%|██████████| 69931/69931 [00:04<00:00, 16995.74it/s]\n"
     ]
    },
    {
     "name": "stdout",
     "output_type": "stream",
     "text": [
      "Results after RetroRanker S2:\n",
      "Top  1 accuracy: 0.4880, baseline: 0.4757, change 0.0123\n",
      "Top  2 accuracy: 0.6003, baseline: 0.5787, change 0.0217\n",
      "Top  3 accuracy: 0.6474, baseline: 0.6241, change 0.0232\n",
      "Top  4 accuracy: 0.6720, baseline: 0.6497, change 0.0223\n",
      "Top  5 accuracy: 0.6878, baseline: 0.6671, change 0.0207\n",
      "Top  6 accuracy: 0.6976, baseline: 0.6799, change 0.0177\n",
      "Top  7 accuracy: 0.7055, baseline: 0.6890, change 0.0165\n",
      "Top  8 accuracy: 0.7107, baseline: 0.6960, change 0.0147\n",
      "Top  9 accuracy: 0.7142, baseline: 0.7021, change 0.0121\n",
      "Top 10 accuracy: 0.7166, baseline: 0.7069, change 0.0098\n",
      "Top 11 accuracy: 0.7183, baseline: 0.7106, change 0.0077\n",
      "Top 12 accuracy: 0.7194, baseline: 0.7137, change 0.0057\n",
      "Top 13 accuracy: 0.7203, baseline: 0.7167, change 0.0036\n",
      "Top 14 accuracy: 0.7208, baseline: 0.7185, change 0.0023\n",
      "Top 15 accuracy: 0.7212, baseline: 0.7197, change 0.0015\n",
      "Top 16 accuracy: 0.7215, baseline: 0.7206, change 0.0009\n",
      "Top 17 accuracy: 0.7217, baseline: 0.7211, change 0.0005\n",
      "Top 18 accuracy: 0.7218, baseline: 0.7215, change 0.0003\n",
      "Top 19 accuracy: 0.7218, baseline: 0.7216, change 0.0002\n",
      "Top 20 accuracy: 0.7219, baseline: 0.7218, change 0.0001\n",
      "Top 21 accuracy: 0.7219, baseline: 0.7219, change 0.0000\n",
      "Top 22 accuracy: 0.7219, baseline: 0.7219, change 0.0000\n",
      "Top 23 accuracy: 0.7219, baseline: 0.7219, change 0.0000\n",
      "Top 24 accuracy: 0.7219, baseline: 0.7219, change 0.0000\n",
      "Top 25 accuracy: 0.7219, baseline: 0.7219, change 0.0000\n",
      "Top 26 accuracy: 0.7219, baseline: 0.7219, change 0.0000\n",
      "Top 27 accuracy: 0.7219, baseline: 0.7219, change 0.0000\n",
      "Top 28 accuracy: 0.7219, baseline: 0.7219, change 0.0000\n",
      "Top 29 accuracy: 0.7219, baseline: 0.7219, change 0.0000\n",
      "Top 30 accuracy: 0.7219, baseline: 0.7219, change 0.0000\n",
      "Top 31 accuracy: 0.7219, baseline: 0.7219, change 0.0000\n",
      "Top 32 accuracy: 0.7219, baseline: 0.7219, change 0.0000\n",
      "Top 33 accuracy: 0.7219, baseline: 0.7219, change 0.0000\n",
      "Top 34 accuracy: 0.7219, baseline: 0.7219, change 0.0000\n",
      "Top 35 accuracy: 0.7219, baseline: 0.7219, change 0.0000\n",
      "Top 36 accuracy: 0.7219, baseline: 0.7219, change 0.0000\n",
      "Top 37 accuracy: 0.7219, baseline: 0.7219, change 0.0000\n",
      "Top 38 accuracy: 0.7219, baseline: 0.7219, change 0.0000\n",
      "Top 39 accuracy: 0.7219, baseline: 0.7219, change 0.0000\n",
      "Top 40 accuracy: 0.7219, baseline: 0.7219, change 0.0000\n",
      "Top 41 accuracy: 0.7219, baseline: 0.7219, change 0.0000\n",
      "Top 42 accuracy: 0.7219, baseline: 0.7219, change 0.0000\n",
      "Top 43 accuracy: 0.7219, baseline: 0.7219, change 0.0000\n",
      "Top 44 accuracy: 0.7219, baseline: 0.7219, change 0.0000\n",
      "Top 45 accuracy: 0.7219, baseline: 0.7219, change 0.0000\n",
      "Top 46 accuracy: 0.7219, baseline: 0.7219, change 0.0000\n",
      "Top 47 accuracy: 0.7219, baseline: 0.7219, change 0.0000\n",
      "Top 48 accuracy: 0.7219, baseline: 0.7219, change 0.0000\n",
      "Top 49 accuracy: 0.7219, baseline: 0.7219, change 0.0000\n",
      "Top 50 accuracy: 0.7219, baseline: 0.7219, change 0.0000\n"
     ]
    }
   ],
   "source": [
    "reranked = build_reranked_data(raw_data, scores, rerank_ratio=1, retain_topk=0)\n",
    "t = S2(reranked, dataset, base_acc=base_acc)\n"
   ]
  },
  {
   "cell_type": "markdown",
   "metadata": {},
   "source": [
    "R-SMILES (based on R-SMILES's predictions)"
   ]
  },
  {
   "cell_type": "code",
   "execution_count": 10,
   "metadata": {},
   "outputs": [
    {
     "name": "stderr",
     "output_type": "stream",
     "text": [
      "100%|██████████| 30/30 [00:35<00:00,  1.17s/it]\n"
     ]
    },
    {
     "name": "stdout",
     "output_type": "stream",
     "text": [
      "Results before RetroRanker:\n",
      "Top  1 accuracy: 0.4889\n",
      "Top  2 accuracy: 0.6097\n",
      "Top  3 accuracy: 0.6641\n",
      "Top  4 accuracy: 0.6964\n",
      "Top  5 accuracy: 0.7180\n",
      "Top  6 accuracy: 0.7334\n",
      "Top  7 accuracy: 0.7450\n",
      "Top  8 accuracy: 0.7541\n",
      "Top  9 accuracy: 0.7621\n",
      "Top 10 accuracy: 0.7683\n",
      "Top 11 accuracy: 0.7734\n",
      "Top 12 accuracy: 0.7778\n",
      "Top 13 accuracy: 0.7814\n",
      "Top 14 accuracy: 0.7842\n",
      "Top 15 accuracy: 0.7866\n",
      "Top 16 accuracy: 0.7887\n",
      "Top 17 accuracy: 0.7906\n",
      "Top 18 accuracy: 0.7921\n",
      "Top 19 accuracy: 0.7931\n",
      "Top 20 accuracy: 0.7941\n",
      "Top 21 accuracy: 0.7949\n",
      "Top 22 accuracy: 0.7954\n",
      "Top 23 accuracy: 0.7957\n",
      "Top 24 accuracy: 0.7960\n",
      "Top 25 accuracy: 0.7962\n",
      "Top 26 accuracy: 0.7964\n",
      "Top 27 accuracy: 0.7966\n",
      "Top 28 accuracy: 0.7966\n",
      "Top 29 accuracy: 0.7967\n",
      "Top 30 accuracy: 0.7967\n",
      "Top 31 accuracy: 0.7967\n",
      "Top 32 accuracy: 0.7967\n",
      "Top 33 accuracy: 0.7967\n",
      "Top 34 accuracy: 0.7967\n",
      "Top 35 accuracy: 0.7967\n",
      "Top 36 accuracy: 0.7967\n",
      "Top 37 accuracy: 0.7967\n",
      "Top 38 accuracy: 0.7967\n",
      "Top 39 accuracy: 0.7967\n",
      "Top 40 accuracy: 0.7967\n",
      "Top 41 accuracy: 0.7967\n",
      "Top 42 accuracy: 0.7967\n",
      "Top 43 accuracy: 0.7967\n",
      "Top 44 accuracy: 0.7967\n",
      "Top 45 accuracy: 0.7967\n",
      "Top 46 accuracy: 0.7967\n",
      "Top 47 accuracy: 0.7967\n",
      "Top 48 accuracy: 0.7967\n",
      "Top 49 accuracy: 0.7967\n",
      "Top 50 accuracy: 0.7967\n"
     ]
    }
   ],
   "source": [
    "input_dir = './data/'\n",
    "dataset = 'R-SMILES'\n",
    "output_dir = 'output/R-SMILES_on_R-SMILES/'\n",
    "\n",
    "raw_data, scores = load_predictions(input_dir, dataset, output_dir)\n",
    "base_acc = S1(raw_data, dataset, reranking=False)"
   ]
  },
  {
   "cell_type": "code",
   "execution_count": 11,
   "metadata": {},
   "outputs": [
    {
     "name": "stderr",
     "output_type": "stream",
     "text": [
      "build reranked list: 100%|██████████| 76505/76505 [00:06<00:00, 12694.65it/s]\n"
     ]
    },
    {
     "name": "stdout",
     "output_type": "stream",
     "text": [
      "Results after RetroRanker S2:\n",
      "Top  1 accuracy: 0.4904, baseline: 0.4889, change 0.0015\n",
      "Top  2 accuracy: 0.6158, baseline: 0.6097, change 0.0061\n",
      "Top  3 accuracy: 0.6719, baseline: 0.6641, change 0.0079\n",
      "Top  4 accuracy: 0.7044, baseline: 0.6964, change 0.0080\n",
      "Top  5 accuracy: 0.7260, baseline: 0.7180, change 0.0080\n",
      "Top  6 accuracy: 0.7410, baseline: 0.7334, change 0.0076\n",
      "Top  7 accuracy: 0.7524, baseline: 0.7450, change 0.0074\n",
      "Top  8 accuracy: 0.7612, baseline: 0.7541, change 0.0071\n",
      "Top  9 accuracy: 0.7677, baseline: 0.7621, change 0.0056\n",
      "Top 10 accuracy: 0.7731, baseline: 0.7683, change 0.0048\n",
      "Top 11 accuracy: 0.7780, baseline: 0.7734, change 0.0046\n",
      "Top 12 accuracy: 0.7821, baseline: 0.7778, change 0.0043\n",
      "Top 13 accuracy: 0.7851, baseline: 0.7814, change 0.0038\n",
      "Top 14 accuracy: 0.7874, baseline: 0.7842, change 0.0033\n",
      "Top 15 accuracy: 0.7895, baseline: 0.7866, change 0.0029\n",
      "Top 16 accuracy: 0.7911, baseline: 0.7887, change 0.0025\n",
      "Top 17 accuracy: 0.7924, baseline: 0.7906, change 0.0018\n",
      "Top 18 accuracy: 0.7935, baseline: 0.7921, change 0.0013\n",
      "Top 19 accuracy: 0.7943, baseline: 0.7931, change 0.0012\n",
      "Top 20 accuracy: 0.7948, baseline: 0.7941, change 0.0006\n",
      "Top 21 accuracy: 0.7953, baseline: 0.7949, change 0.0004\n",
      "Top 22 accuracy: 0.7957, baseline: 0.7954, change 0.0003\n",
      "Top 23 accuracy: 0.7960, baseline: 0.7957, change 0.0002\n",
      "Top 24 accuracy: 0.7962, baseline: 0.7960, change 0.0002\n",
      "Top 25 accuracy: 0.7963, baseline: 0.7962, change 0.0001\n",
      "Top 26 accuracy: 0.7964, baseline: 0.7964, change -0.0000\n",
      "Top 27 accuracy: 0.7965, baseline: 0.7966, change -0.0001\n",
      "Top 28 accuracy: 0.7965, baseline: 0.7966, change -0.0001\n",
      "Top 29 accuracy: 0.7965, baseline: 0.7967, change -0.0002\n",
      "Top 30 accuracy: 0.7966, baseline: 0.7967, change -0.0001\n",
      "Top 31 accuracy: 0.7966, baseline: 0.7967, change -0.0001\n",
      "Top 32 accuracy: 0.7966, baseline: 0.7967, change -0.0001\n",
      "Top 33 accuracy: 0.7966, baseline: 0.7967, change -0.0001\n",
      "Top 34 accuracy: 0.7966, baseline: 0.7967, change -0.0001\n",
      "Top 35 accuracy: 0.7966, baseline: 0.7967, change -0.0001\n",
      "Top 36 accuracy: 0.7966, baseline: 0.7967, change -0.0001\n",
      "Top 37 accuracy: 0.7966, baseline: 0.7967, change -0.0001\n",
      "Top 38 accuracy: 0.7966, baseline: 0.7967, change -0.0001\n",
      "Top 39 accuracy: 0.7966, baseline: 0.7967, change -0.0001\n",
      "Top 40 accuracy: 0.7966, baseline: 0.7967, change -0.0001\n",
      "Top 41 accuracy: 0.7966, baseline: 0.7967, change -0.0001\n",
      "Top 42 accuracy: 0.7966, baseline: 0.7967, change -0.0001\n",
      "Top 43 accuracy: 0.7966, baseline: 0.7967, change -0.0001\n",
      "Top 44 accuracy: 0.7966, baseline: 0.7967, change -0.0001\n",
      "Top 45 accuracy: 0.7966, baseline: 0.7967, change -0.0001\n",
      "Top 46 accuracy: 0.7966, baseline: 0.7967, change -0.0001\n",
      "Top 47 accuracy: 0.7966, baseline: 0.7967, change -0.0001\n",
      "Top 48 accuracy: 0.7966, baseline: 0.7967, change -0.0001\n",
      "Top 49 accuracy: 0.7966, baseline: 0.7967, change -0.0001\n",
      "Top 50 accuracy: 0.7966, baseline: 0.7967, change -0.0001\n"
     ]
    }
   ],
   "source": [
    "reranked = build_reranked_data(raw_data, scores, rerank_ratio=1, retain_topk=0)\n",
    "t = S2(reranked, dataset, base_acc=base_acc)"
   ]
  },
  {
   "cell_type": "code",
   "execution_count": null,
   "metadata": {},
   "outputs": [],
   "source": []
  }
 ],
 "metadata": {
  "kernelspec": {
   "display_name": "Python 3.9.13 ('retroranker')",
   "language": "python",
   "name": "python3"
  },
  "language_info": {
   "codemirror_mode": {
    "name": "ipython",
    "version": 3
   },
   "file_extension": ".py",
   "mimetype": "text/x-python",
   "name": "python",
   "nbconvert_exporter": "python",
   "pygments_lexer": "ipython3",
   "version": "3.9.13"
  },
  "orig_nbformat": 4,
  "vscode": {
   "interpreter": {
    "hash": "b5b6de52814b7b7e83aabab97e9ab07479571118d39b056d18c15abe4e7a047f"
   }
  }
 },
 "nbformat": 4,
 "nbformat_minor": 2
}
